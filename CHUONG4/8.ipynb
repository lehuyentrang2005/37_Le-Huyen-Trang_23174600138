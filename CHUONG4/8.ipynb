{
 "cells": [
  {
   "cell_type": "code",
   "execution_count": 2,
   "metadata": {},
   "outputs": [
    {
     "name": "stdout",
     "output_type": "stream",
     "text": [
      "Series ban dau: \n",
      "0     0.645937\n",
      "1     0.569617\n",
      "2     0.157777\n",
      "3     0.159799\n",
      "4     0.321544\n",
      "5     0.252396\n",
      "6     0.089689\n",
      "7     0.659432\n",
      "8     0.633197\n",
      "9     0.854937\n",
      "10    0.149806\n",
      "11    0.406900\n",
      "12    0.669191\n",
      "13    0.494446\n",
      "14    0.382383\n",
      "15    0.174484\n",
      "16    0.217201\n",
      "17    0.677254\n",
      "18    0.145251\n",
      "19    0.917428\n",
      "dtype: float64\n",
      "\n",
      "Series sau khi thay the bang ten phan vi: \n",
      "0      Decile 8\n",
      "1      Decile 7\n",
      "2      Decile 2\n",
      "3      Decile 3\n",
      "4      Decile 5\n",
      "5      Decile 4\n",
      "6      Decile 1\n",
      "7      Decile 8\n",
      "8      Decile 7\n",
      "9     Decile 10\n",
      "10     Decile 2\n",
      "11     Decile 6\n",
      "12     Decile 9\n",
      "13     Decile 6\n",
      "14     Decile 5\n",
      "15     Decile 3\n",
      "16     Decile 4\n",
      "17     Decile 9\n",
      "18     Decile 1\n",
      "19    Decile 10\n",
      "dtype: category\n",
      "Categories (10, object): ['Decile 1' < 'Decile 2' < 'Decile 3' < 'Decile 4' ... 'Decile 7' < 'Decile 8' < 'Decile 9' < 'Decile 10']\n"
     ]
    }
   ],
   "source": [
    "import pandas as pd \n",
    "import numpy as np \n",
    "ser=pd.Series(np.random.random(20))\n",
    "deciles=pd.qcut(ser, 10, labels=[f'Decile {i+1}' for i in range(10)])\n",
    "ser_modified=deciles\n",
    "print(\"Series ban dau: \")\n",
    "print(ser)\n",
    "print(\"\\nSeries sau khi thay the bang ten phan vi: \")\n",
    "print(ser_modified)"
   ]
  }
 ],
 "metadata": {
  "kernelspec": {
   "display_name": "Python 3",
   "language": "python",
   "name": "python3"
  },
  "language_info": {
   "codemirror_mode": {
    "name": "ipython",
    "version": 3
   },
   "file_extension": ".py",
   "mimetype": "text/x-python",
   "name": "python",
   "nbconvert_exporter": "python",
   "pygments_lexer": "ipython3",
   "version": "3.6.8"
  }
 },
 "nbformat": 4,
 "nbformat_minor": 2
}
