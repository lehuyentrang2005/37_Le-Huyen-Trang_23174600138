{
 "cells": [
  {
   "cell_type": "code",
   "execution_count": 2,
   "metadata": {},
   "outputs": [
    {
     "name": "stdout",
     "output_type": "stream",
     "text": [
      "Xep chong theo chieu doc:\n",
      "0    0\n",
      "1    1\n",
      "2    2\n",
      "3    3\n",
      "4    4\n",
      "5    a\n",
      "6    b\n",
      "7    c\n",
      "8    d\n",
      "9    e\n",
      "dtype: object\n",
      "Xep chong theo chieu ngang:\n",
      "   0  1\n",
      "0  0  a\n",
      "1  1  b\n",
      "2  2  c\n",
      "3  3  d\n",
      "4  4  e\n"
     ]
    }
   ],
   "source": [
    "import pandas as pd \n",
    "ser1=pd.Series(range(5))\n",
    "ser2=pd.Series(list('abcde'))\n",
    "df_chieu_doc=pd.concat([ser1, ser2], axis=0, ignore_index=True)\n",
    "df_chieu_ngang=pd.concat([ser1, ser2], axis=1)\n",
    "print(\"Xep chong theo chieu doc:\")\n",
    "print(df_chieu_doc)\n",
    "print(\"Xep chong theo chieu ngang:\")\n",
    "print(df_chieu_ngang)\n"
   ]
  }
 ],
 "metadata": {
  "kernelspec": {
   "display_name": "Python 3",
   "language": "python",
   "name": "python3"
  },
  "language_info": {
   "codemirror_mode": {
    "name": "ipython",
    "version": 3
   },
   "file_extension": ".py",
   "mimetype": "text/x-python",
   "name": "python",
   "nbconvert_exporter": "python",
   "pygments_lexer": "ipython3",
   "version": "3.6.8"
  }
 },
 "nbformat": 4,
 "nbformat_minor": 2
}
