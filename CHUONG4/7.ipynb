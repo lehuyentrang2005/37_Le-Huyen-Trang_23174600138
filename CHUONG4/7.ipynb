{
 "cells": [
  {
   "cell_type": "code",
   "execution_count": 4,
   "metadata": {},
   "outputs": [
    {
     "name": "stdout",
     "output_type": "stream",
     "text": [
      "Series ban dau: \n",
      "0     1\n",
      "1     1\n",
      "2     4\n",
      "3     4\n",
      "4     4\n",
      "5     4\n",
      "6     1\n",
      "7     3\n",
      "8     3\n",
      "9     1\n",
      "10    3\n",
      "11    2\n",
      "dtype: int32\n",
      "\n",
      "Series sau khi thay the: \n",
      "0         1\n",
      "1         1\n",
      "2         4\n",
      "3         4\n",
      "4         4\n",
      "5         4\n",
      "6         1\n",
      "7     Other\n",
      "8     Other\n",
      "9         1\n",
      "10    Other\n",
      "11    Other\n",
      "dtype: object\n"
     ]
    }
   ],
   "source": [
    "import pandas as pd \n",
    "import numpy as np \n",
    "np.random.seed(100)\n",
    "ser=pd.Series(np.random.randint(1, 5, 12))\n",
    "value_counts=ser.value_counts()\n",
    "top_2=value_counts.head(2).index\n",
    "ser_modified=ser.apply(lambda x: x if x in top_2 else 'Other')\n",
    "print(\"Series ban dau: \")\n",
    "print(ser)\n",
    "print(\"\\nSeries sau khi thay the: \")\n",
    "print(ser_modified)\n",
    "\n"
   ]
  }
 ],
 "metadata": {
  "kernelspec": {
   "display_name": "Python 3",
   "language": "python",
   "name": "python3"
  },
  "language_info": {
   "codemirror_mode": {
    "name": "ipython",
    "version": 3
   },
   "file_extension": ".py",
   "mimetype": "text/x-python",
   "name": "python",
   "nbconvert_exporter": "python",
   "pygments_lexer": "ipython3",
   "version": "3.6.8"
  }
 },
 "nbformat": 4,
 "nbformat_minor": 2
}
