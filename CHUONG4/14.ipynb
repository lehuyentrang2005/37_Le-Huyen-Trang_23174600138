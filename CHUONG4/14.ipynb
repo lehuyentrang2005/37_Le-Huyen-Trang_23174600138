{
 "cells": [
  {
   "cell_type": "code",
   "execution_count": 1,
   "metadata": {},
   "outputs": [
    {
     "name": "stdout",
     "output_type": "stream",
     "text": [
      "Sai so binh phuong trung binh la: \n",
      "0.26950012325530165\n"
     ]
    }
   ],
   "source": [
    "import pandas as pd \n",
    "import numpy as np \n",
    "truth=pd.Series(range(10))\n",
    "pred=pd.Series(range(10))+np.random.random(10)\n",
    "sai_so=((truth-pred)**2).mean()\n",
    "print(\"Sai so binh phuong trung binh la: \")\n",
    "print(sai_so)"
   ]
  }
 ],
 "metadata": {
  "kernelspec": {
   "display_name": "Python 3",
   "language": "python",
   "name": "python3"
  },
  "language_info": {
   "codemirror_mode": {
    "name": "ipython",
    "version": 3
   },
   "file_extension": ".py",
   "mimetype": "text/x-python",
   "name": "python",
   "nbconvert_exporter": "python",
   "pygments_lexer": "ipython3",
   "version": "3.6.8"
  }
 },
 "nbformat": 4,
 "nbformat_minor": 2
}
