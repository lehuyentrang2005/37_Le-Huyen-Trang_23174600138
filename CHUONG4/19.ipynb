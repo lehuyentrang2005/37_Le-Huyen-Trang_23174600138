{
 "cells": [
  {
   "cell_type": "code",
   "execution_count": 10,
   "metadata": {},
   "outputs": [
    {
     "name": "stdout",
     "output_type": "stream",
     "text": [
      "fruit\n",
      "apple     7.5\n",
      "banana    3.5\n",
      "carrot    9.5\n",
      "Name: weights, dtype: float64\n"
     ]
    }
   ],
   "source": [
    "import pandas as pd \n",
    "import numpy as np \n",
    "fruit=pd.Series(np.random.choice(['apple','banana','carrot'], 10))\n",
    "weights=pd.Series(np.linspace(1, 10, 10))\n",
    "df=pd.DataFrame({'fruit':fruit,'weights':weights})\n",
    "khoi_luong_trung_binh=df.groupby('fruit')['weights'].mean()\n",
    "print(khoi_luong_trung_binh)\n",
    "\n",
    "\n"
   ]
  }
 ],
 "metadata": {
  "kernelspec": {
   "display_name": "Python 3",
   "language": "python",
   "name": "python3"
  },
  "language_info": {
   "codemirror_mode": {
    "name": "ipython",
    "version": 3
   },
   "file_extension": ".py",
   "mimetype": "text/x-python",
   "name": "python",
   "nbconvert_exporter": "python",
   "pygments_lexer": "ipython3",
   "version": "3.6.8"
  }
 },
 "nbformat": 4,
 "nbformat_minor": 2
}
