{
 "cells": [
  {
   "cell_type": "code",
   "execution_count": 1,
   "metadata": {},
   "outputs": [
    {
     "name": "stdout",
     "output_type": "stream",
     "text": [
      "Gia tri toi thieu: -3.234436013837767\n",
      "Phan centile thu 25: 5.936203664514915\n",
      "Trung vi: 10.986345454396398\n",
      "Phan centile thu 75: 13.493407331103281\n",
      "Gia tri toi da: 28.41526407718902\n"
     ]
    }
   ],
   "source": [
    "import pandas as pd \n",
    "import numpy as np \n",
    "ser=pd.Series(np.random.normal(10, 5, 25))\n",
    "#1\n",
    "min_value=ser.min()\n",
    "#2\n",
    "percentile_25=ser.quantile(0.25)\n",
    "#3\n",
    "median_value=ser.median()\n",
    "#4\n",
    "percentile_75=ser.quantile(0.75)\n",
    "#5\n",
    "max_value=ser.max()\n",
    "print(f\"Gia tri toi thieu: {min_value}\")\n",
    "print(f\"Phan centile thu 25: {percentile_25}\")\n",
    "print(f\"Trung vi: {median_value}\")\n",
    "print(f\"Phan centile thu 75: {percentile_75}\")\n",
    "print(f\"Gia tri toi da: {max_value}\")\n",
    "\n"
   ]
  }
 ],
 "metadata": {
  "kernelspec": {
   "display_name": "Python 3",
   "language": "python",
   "name": "python3"
  },
  "language_info": {
   "codemirror_mode": {
    "name": "ipython",
    "version": 3
   },
   "file_extension": ".py",
   "mimetype": "text/x-python",
   "name": "python",
   "nbconvert_exporter": "python",
   "pygments_lexer": "ipython3",
   "version": "3.6.8"
  }
 },
 "nbformat": 4,
 "nbformat_minor": 2
}
