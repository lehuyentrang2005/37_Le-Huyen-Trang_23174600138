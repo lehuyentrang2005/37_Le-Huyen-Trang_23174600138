{
 "cells": [
  {
   "cell_type": "code",
   "execution_count": null,
   "metadata": {},
   "outputs": [],
   "source": [
    "#1 Giai thich:\n",
    "ser=pd.Series(np.random.randint(1, 10, 35))\n",
    "np.random.randint(1, 10, 35):\n",
    "\n",
    "Hàm này từ thư viện numpy dùng để tạo ra một mảng ngẫu nhiên gồm 35 số nguyên, mỗi số trong khoảng từ 1 đến 9 (bao gồm 1 và loại trừ 10).\n",
    "Cụ thể:\n",
    "Tham số 1 là giá trị nhỏ nhất (bao gồm).\n",
    "Tham số 10 là giá trị lớn nhất (không bao gồm).\n",
    "Tham số 35 chỉ định rằng chúng ta muốn tạo ra 35 số nguyên ngẫu nhiên.\n",
    "pd.Series():\n",
    "\n",
    "Sau khi tạo ra mảng ngẫu nhiên từ np.random.randint(), hàm pd.Series() sẽ chuyển mảng này thành một đối tượng Series của thư viện pandas.\n",
    "Một Series trong pandas là một mảng một chiều với nhãn (index) cho mỗi phần tử. Nó rất hữu ích trong việc làm việc với dữ liệu có cấu trúc.\n",
    "Kết quả: ser là một đối tượng Series với 35 phần tử ngẫu nhiên từ 1 đến 9, và mỗi phần tử có một chỉ số (index) đi kèm."
   ]
  },
  {
   "cell_type": "code",
   "execution_count": 9,
   "metadata": {},
   "outputs": [
    {
     "name": "stdout",
     "output_type": "stream",
     "text": [
      "DataFrame sau khi dinh hinh lai: \n",
      "   0  1  2  3  4\n",
      "0  1  2  9  9  3\n",
      "1  9  5  5  3  8\n",
      "2  8  6  3  6  2\n",
      "3  8  9  5  2  1\n",
      "4  7  7  6  2  2\n",
      "5  1  4  6  1  2\n",
      "6  2  5  5  7  9\n"
     ]
    }
   ],
   "source": [
    "\n",
    "#2\n",
    "import pandas as pd\n",
    "import numpy as np \n",
    "ser=pd.Series(np.random.randint(1, 10, 35))\n",
    "df=pd.DataFrame(ser.values.reshape(7, 5))\n",
    "print(\"DataFrame sau khi dinh hinh lai: \")\n",
    "print(df)"
   ]
  }
 ],
 "metadata": {
  "kernelspec": {
   "display_name": "Python 3",
   "language": "python",
   "name": "python3"
  },
  "language_info": {
   "codemirror_mode": {
    "name": "ipython",
    "version": 3
   },
   "file_extension": ".py",
   "mimetype": "text/x-python",
   "name": "python",
   "nbconvert_exporter": "python",
   "pygments_lexer": "ipython3",
   "version": "3.6.8"
  }
 },
 "nbformat": 4,
 "nbformat_minor": 2
}
