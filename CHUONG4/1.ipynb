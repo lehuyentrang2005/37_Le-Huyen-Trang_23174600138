{
 "cells": [
  {
   "cell_type": "code",
   "execution_count": 3,
   "metadata": {},
   "outputs": [
    {
     "name": "stdout",
     "output_type": "stream",
     "text": [
      "a     0\n",
      "b     1\n",
      "c     2\n",
      "d     3\n",
      "e     4\n",
      "f     5\n",
      "g     6\n",
      "h     7\n",
      "i     8\n",
      "k     9\n",
      "l    10\n",
      "m    11\n",
      "n    12\n",
      "o    13\n",
      "p    14\n",
      "q    15\n",
      "r    16\n",
      "s    17\n",
      "t    18\n",
      "u    19\n",
      "v    20\n",
      "w    21\n",
      "x    22\n",
      "y    23\n",
      "z    24\n",
      "dtype: int64\n"
     ]
    }
   ],
   "source": [
    "import numpy as np \n",
    "import pandas as pd\n",
    "mylist=list('abcdefghiklmnopqrstuvwxyz')\n",
    "myarr=np.arange(26)\n",
    "mydict=dict(zip(mylist, myarr))\n",
    "ser=pd.Series(mydict)\n",
    "print(ser)"
   ]
  }
 ],
 "metadata": {
  "kernelspec": {
   "display_name": "Python 3",
   "language": "python",
   "name": "python3"
  },
  "language_info": {
   "codemirror_mode": {
    "name": "ipython",
    "version": 3
   },
   "file_extension": ".py",
   "mimetype": "text/x-python",
   "name": "python",
   "nbconvert_exporter": "python",
   "pygments_lexer": "ipython3",
   "version": "3.6.8"
  }
 },
 "nbformat": 4,
 "nbformat_minor": 2
}
