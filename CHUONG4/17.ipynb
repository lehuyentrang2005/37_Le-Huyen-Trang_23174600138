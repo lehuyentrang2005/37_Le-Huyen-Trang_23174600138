{
 "cells": [
  {
   "cell_type": "code",
   "execution_count": 1,
   "metadata": {},
   "outputs": [
    {
     "name": "stdout",
     "output_type": "stream",
     "text": [
      "0   2010-01-01 00:00:00\n",
      "1   2011-02-02 00:00:00\n",
      "2   2012-03-03 00:00:00\n",
      "3   2013-04-04 00:00:00\n",
      "4   2014-05-05 00:00:00\n",
      "5   2015-06-06 12:20:00\n",
      "dtype: datetime64[ns]\n"
     ]
    }
   ],
   "source": [
    "import pandas as pd \n",
    "ser=pd.Series(['01 Jan 2010','02-02-2011','20120303','2013/04/04','2014-05-05','2015-06-06T12:20'])\n",
    "ser_datetime=pd.to_datetime(ser)\n",
    "print(ser_datetime)"
   ]
  }
 ],
 "metadata": {
  "kernelspec": {
   "display_name": "Python 3",
   "language": "python",
   "name": "python3"
  },
  "language_info": {
   "codemirror_mode": {
    "name": "ipython",
    "version": 3
   },
   "file_extension": ".py",
   "mimetype": "text/x-python",
   "name": "python",
   "nbconvert_exporter": "python",
   "pygments_lexer": "ipython3",
   "version": "3.6.8"
  }
 },
 "nbformat": 4,
 "nbformat_minor": 2
}
