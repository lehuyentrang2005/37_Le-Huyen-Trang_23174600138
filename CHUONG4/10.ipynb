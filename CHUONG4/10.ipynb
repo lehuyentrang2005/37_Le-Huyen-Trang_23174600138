{
 "cells": [
  {
   "cell_type": "code",
   "execution_count": 10,
   "metadata": {},
   "outputs": [
    {
     "name": "stdout",
     "output_type": "stream",
     "text": [
      "Series:\n",
      "0    8\n",
      "1    9\n",
      "2    7\n",
      "3    1\n",
      "4    2\n",
      "5    6\n",
      "6    5\n",
      "dtype: int32\n",
      "\n",
      "Chi so cua cac so la boi cua 3: \n",
      "[1, 5]\n"
     ]
    }
   ],
   "source": [
    "import pandas as pd\n",
    "import numpy as np \n",
    "ser = pd.Series(np.random.randint(1, 10, 7))\n",
    "indices=ser[ser%3==0].index.tolist()\n",
    "print(\"Series:\")\n",
    "print(ser)\n",
    "print(\"\\nChi so cua cac so la boi cua 3: \")\n",
    "print(indices)"
   ]
  }
 ],
 "metadata": {
  "kernelspec": {
   "display_name": "Python 3",
   "language": "python",
   "name": "python3"
  },
  "language_info": {
   "codemirror_mode": {
    "name": "ipython",
    "version": 3
   },
   "file_extension": ".py",
   "mimetype": "text/x-python",
   "name": "python",
   "nbconvert_exporter": "python",
   "pygments_lexer": "ipython3",
   "version": "3.6.8"
  }
 },
 "nbformat": 4,
 "nbformat_minor": 2
}
