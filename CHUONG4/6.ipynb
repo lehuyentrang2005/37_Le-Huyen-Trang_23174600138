{
 "cells": [
  {
   "cell_type": "code",
   "execution_count": null,
   "metadata": {},
   "outputs": [],
   "source": [
    "ser=pd.Series(np.take(list('abcdefgh'), np.random.randint(8, size=30)))\n",
    "#1: Giai thich doan code\n",
    "list('abcdefgh'): Tạo một danh sách các ký tự từ 'a' đến 'h'. Kết quả là: ['a', 'b', 'c', 'd', 'e', 'f', 'g', 'h'].\n",
    "\n",
    "np.random.randint(8, size=30): Tạo một mảng ngẫu nhiên với 30 phần tử, mỗi phần tử là một số nguyên ngẫu nhiên trong khoảng từ 0 đến 7 (tức là từ 0 đến 7, vì tham số đầu tiên là 8). Ví dụ kết quả có thể là [2, 4, 1, 7, 0, 5, ...].\n",
    "\n",
    "np.take(list('abcdefgh'), ...): Dùng mảng số ngẫu nhiên tạo ra ở bước trước để lấy các phần tử từ danh sách ['a', 'b', 'c', 'd', 'e', 'f', 'g', 'h']. Mỗi số trong mảng ngẫu nhiên tương ứng với một chỉ số trong danh sách này. Ví dụ, nếu mảng ngẫu nhiên là [2, 4, 1, 7, 0], ta sẽ lấy các phần tử ['c', 'e', 'b', 'h', 'a'].\n",
    "\n",
    "pd.Series(...): Tạo một Series từ kết quả của np.take(). Mỗi phần tử của Series này sẽ là một trong các giá trị từ ['a', 'b', 'c', 'd', 'e', 'f', 'g', 'h'], phụ thuộc vào các số ngẫu nhiên đã sinh ra.\n",
    "\n",
    "Kết quả cuối cùng là một Series với 30 phần tử, mỗi phần tử là một trong các ký tự từ 'a' đến 'h', được chọn ngẫu nhiên."
   ]
  },
  {
   "cell_type": "code",
   "execution_count": 1,
   "metadata": {},
   "outputs": [
    {
     "name": "stdout",
     "output_type": "stream",
     "text": [
      "f    5\n",
      "a    5\n",
      "c    5\n",
      "d    4\n",
      "e    4\n",
      "h    4\n",
      "b    2\n",
      "g    1\n",
      "dtype: int64\n"
     ]
    }
   ],
   "source": [
    "#2\n",
    "import numpy as np \n",
    "import pandas as pd\n",
    "ser=pd.Series(np.take(list('abcdefgh'), np.random.randint(8, size=30)))\n",
    "value_counts=ser.value_counts()\n",
    "print(value_counts)\n"
   ]
  }
 ],
 "metadata": {
  "kernelspec": {
   "display_name": "Python 3",
   "language": "python",
   "name": "python3"
  },
  "language_info": {
   "codemirror_mode": {
    "name": "ipython",
    "version": 3
   },
   "file_extension": ".py",
   "mimetype": "text/x-python",
   "name": "python",
   "nbconvert_exporter": "python",
   "pygments_lexer": "ipython3",
   "version": "3.6.8"
  }
 },
 "nbformat": 4,
 "nbformat_minor": 2
}
