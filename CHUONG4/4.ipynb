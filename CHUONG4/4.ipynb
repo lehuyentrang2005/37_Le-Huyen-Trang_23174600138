{
 "cells": [
  {
   "cell_type": "code",
   "execution_count": 1,
   "metadata": {},
   "outputs": [
    {
     "name": "stdout",
     "output_type": "stream",
     "text": [
      "Ser1 sau khi xoa cac muc co mat trong ser2:\n",
      " 0    1\n",
      "1    2\n",
      "2    3\n",
      "dtype: int64\n",
      "\n",
      "Cac muc chi co trong ser1 va ser2, nhung ko chung:\n",
      " 0    1\n",
      "1    2\n",
      "2    3\n",
      "2    6\n",
      "3    7\n",
      "4    8\n",
      "dtype: int64\n"
     ]
    }
   ],
   "source": [
    "import pandas as pd\n",
    "ser1=pd.Series([1, 2, 3, 4, 5])\n",
    "ser2=pd.Series([4, 5, 6, 7, 8])\n",
    "#1\n",
    "ser1_filtered=ser1[~ser1.isin(ser2)]\n",
    "#2\n",
    "ser_diff=pd.concat([ser1[~ser1.isin(ser2)], ser2[~ser2.isin(ser1)]])\n",
    "print(\"Ser1 sau khi xoa cac muc co mat trong ser2:\\n\", ser1_filtered)\n",
    "print(\"\\nCac muc chi co trong ser1 va ser2, nhung ko chung:\\n\", ser_diff)\n"
   ]
  }
 ],
 "metadata": {
  "kernelspec": {
   "display_name": "Python 3",
   "language": "python",
   "name": "python3"
  },
  "language_info": {
   "codemirror_mode": {
    "name": "ipython",
    "version": 3
   },
   "file_extension": ".py",
   "mimetype": "text/x-python",
   "name": "python",
   "nbconvert_exporter": "python",
   "pygments_lexer": "ipython3",
   "version": "3.6.8"
  }
 },
 "nbformat": 4,
 "nbformat_minor": 2
}
