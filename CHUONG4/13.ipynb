{
 "cells": [
  {
   "cell_type": "code",
   "execution_count": 1,
   "metadata": {},
   "outputs": [
    {
     "name": "stdout",
     "output_type": "stream",
     "text": [
      "Vi tri cua cac muc cua ser2 trong ser1 la:\n",
      "[0, 4, 5, 8]\n"
     ]
    }
   ],
   "source": [
    "import pandas as pd \n",
    "ser1=pd.Series([10, 9, 6, 5, 3, 1, 12, 8, 13])\n",
    "ser2=pd.Series([1, 3, 10, 13])\n",
    "vi_tri=ser1[ser1.isin(ser2)].index.tolist()\n",
    "print(\"Vi tri cua cac muc cua ser2 trong ser1 la:\")\n",
    "print(vi_tri)\n"
   ]
  }
 ],
 "metadata": {
  "kernelspec": {
   "display_name": "Python 3",
   "language": "python",
   "name": "python3"
  },
  "language_info": {
   "codemirror_mode": {
    "name": "ipython",
    "version": 3
   },
   "file_extension": ".py",
   "mimetype": "text/x-python",
   "name": "python",
   "nbconvert_exporter": "python",
   "pygments_lexer": "ipython3",
   "version": "3.6.8"
  }
 },
 "nbformat": 4,
 "nbformat_minor": 2
}
